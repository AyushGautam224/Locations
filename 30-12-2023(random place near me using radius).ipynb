{
 "cells": [
  {
   "cell_type": "code",
   "execution_count": null,
   "id": "81aaa0a1",
   "metadata": {},
   "outputs": [],
   "source": []
  },
  {
   "cell_type": "code",
   "execution_count": null,
   "id": "752ae5e0",
   "metadata": {},
   "outputs": [],
   "source": []
  },
  {
   "cell_type": "code",
   "execution_count": null,
   "id": "224f216a",
   "metadata": {},
   "outputs": [],
   "source": []
  },
  {
   "cell_type": "code",
   "execution_count": null,
   "id": "9907b043",
   "metadata": {},
   "outputs": [],
   "source": []
  },
  {
   "cell_type": "code",
   "execution_count": null,
   "id": "4029ab83",
   "metadata": {},
   "outputs": [],
   "source": []
  },
  {
   "cell_type": "code",
   "execution_count": null,
   "id": "aa9102c6",
   "metadata": {},
   "outputs": [],
   "source": []
  },
  {
   "cell_type": "code",
   "execution_count": 3,
   "id": "3ea7637d",
   "metadata": {},
   "outputs": [
    {
     "name": "stdout",
     "output_type": "stream",
     "text": [
      "What type of place are you looking for? (e.g., park, mall, ATM, hotel): hotel\n",
      "Enter the search radius (in kilometers): 70\n",
      "\n",
      "Your current location: Dugawan, Naka Hindola, Lucknow, Lucknow District, Uttar Pradesh, 226018, India\n",
      "\n",
      "Hotel Nexus correction location, Naka Hindola Chauraha, Arya Nagar, Lucknow, Lucknow District, Uttar Pradesh, 226018, India (0.20 km)\n",
      "Hotel ANR, Naka Hindola Chauraha, Arya Nagar, Lucknow, Lucknow District, Uttar Pradesh, 226018, India (0.29 km)\n",
      "kanha inn, Subhash Marg, Dugawan, Naka Hindola, Lucknow, Lucknow District, Uttar Pradesh, 226018, India (0.50 km)\n",
      "Moon Star, Naka Hindola Chauraha, Arya Nagar, Lucknow, Lucknow District, Uttar Pradesh, 226004, India (0.60 km)\n",
      "Golden Sky, Shivaji Marg, Ganesh Ganj, Lucknow, Lucknow District, Uttar Pradesh, 226001, India (0.94 km)\n",
      "Central Hotel, Book Lane, Dugawan, Aminabad, Lucknow, Lucknow District, Uttar Pradesh, 226018, India (1.10 km)\n",
      "Dolphin Hotel, Jagat Narain Road, Qaisarbagh, Lucknow, Lucknow District, Uttar Pradesh, 226018, India (1.48 km)\n",
      "The Grand Radiant, 36, Cantonment Road, Ganesh Ganj, Lucknow, Lucknow District, Uttar Pradesh, 226001, India (1.40 km)\n",
      "Gemini Continental, Waka Qadar Road, Hazratganj, Lucknow, Lucknow District, Uttar Pradesh, 206018, India (1.97 km)\n",
      "Clarks Avadh, Mahatma Gandhi Road, Qaisarbagh, Lucknow, Lucknow District, Uttar Pradesh, 226007, India (2.28 km)\n"
     ]
    }
   ],
   "source": [
    "from geopy.geocoders import Nominatim\n",
    "from geopy.distance import geodesic\n",
    "import requests\n",
    "\n",
    "def get_user_location():\n",
    "    try:\n",
    "        response = requests.get('https://ipinfo.io')\n",
    "        data = response.json()\n",
    "        return map(float, data['loc'].split(','))\n",
    "    except Exception as e:\n",
    "        print(f\"Error: Unable to detect your location. {e}\")\n",
    "        return None, None\n",
    "\n",
    "def find_nearby_places(lat, lon, place_type, radius):\n",
    "    geolocator = Nominatim(user_agent=\"nearby_search\")\n",
    "    \n",
    "    try:\n",
    "        location = geolocator.reverse((lat, lon))\n",
    "        print(f\"\\nYour current location: {location}\\n\")\n",
    "        \n",
    "        query = f\"{place_type} near {lat}, {lon}\"\n",
    "        \n",
    "        places = geolocator.geocode(query, exactly_one=False, limit=None)\n",
    "        if places:\n",
    "            for place in places:\n",
    "                place_coords = (place.latitude, place.longitude)\n",
    "                place_distance = geodesic((lat, lon), place_coords).kilometers\n",
    "                if place_distance <= radius:\n",
    "                    print(f\"{place.address} ({place_distance:.2f} km)\")\n",
    "        else:\n",
    "            print(\"No nearby places found for the given type.\")\n",
    "    except Exception as e:\n",
    "        print(f\"Error: Unable to fetch nearby places. {e}\")\n",
    "\n",
    "if __name__ == \"__main__\":\n",
    "    user_lat, user_lon = get_user_location()\n",
    "    \n",
    "    if user_lat is not None and user_lon is not None:\n",
    "        place_type = input(\"What type of place are you looking for? (e.g., park, mall, ATM, hotel): \")\n",
    "        try:\n",
    "            search_radius = float(input(\"Enter the search radius (in kilometers): \"))\n",
    "            find_nearby_places(user_lat, user_lon, place_type, search_radius)\n",
    "        except ValueError:\n",
    "            print(\"Error: Please enter a valid number for the search radius.\")\n"
   ]
  },
  {
   "cell_type": "code",
   "execution_count": null,
   "id": "1f285b3d",
   "metadata": {},
   "outputs": [],
   "source": []
  },
  {
   "cell_type": "code",
   "execution_count": null,
   "id": "8c571f9c",
   "metadata": {},
   "outputs": [],
   "source": []
  }
 ],
 "metadata": {
  "kernelspec": {
   "display_name": "Python 3 (ipykernel)",
   "language": "python",
   "name": "python3"
  },
  "language_info": {
   "codemirror_mode": {
    "name": "ipython",
    "version": 3
   },
   "file_extension": ".py",
   "mimetype": "text/x-python",
   "name": "python",
   "nbconvert_exporter": "python",
   "pygments_lexer": "ipython3",
   "version": "3.11.5"
  }
 },
 "nbformat": 4,
 "nbformat_minor": 5
}
